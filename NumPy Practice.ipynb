{
 "cells": [
  {
   "cell_type": "markdown",
   "metadata": {},
   "source": [
    "# 파이썬\n",
    "\n",
    "    파이썬은 고급 프로그래밍 언어, 사람이 이해하기 쉽도록 작성된 언어로 다중패러다임을 지원하는 동적 프로그래밍 언어이다.\n",
    "    짧지만 가독성 높은 코드로 유명하다. 아래는 quick sort를 파이썬으로 구현한 예시이다.\n",
    "    \n",
    "    (튜토리얼의 내용은 python 2 버젼 기준이나 학습을 위해 python 3 버젼으로 진행함)"
   ]
  },
  {
   "cell_type": "code",
   "execution_count": 5,
   "metadata": {},
   "outputs": [
    {
     "name": "stdout",
     "output_type": "stream",
     "text": [
      "[1, 1, 2, 3, 6, 8, 10]\n"
     ]
    }
   ],
   "source": [
    "def quicksort(arr):\n",
    "    if len(arr) <= 1:\n",
    "        return arr\n",
    "    pivot = arr[int(len(arr) / 2)]\n",
    "    left = [x for x in arr if x < pivot]\n",
    "    middle = [x for x in arr if x == pivot]\n",
    "    right = [x for x in arr if x > pivot]\n",
    "    return quicksort(left) + middle + quicksort(right)\n",
    "\n",
    "print(quicksort([3,6,8,10,1,2,1]))"
   ]
  },
  {
   "cell_type": "markdown",
   "metadata": {},
   "source": [
    "## 기본 자료형\n",
    "    다른 프로그래밍 언어들처럼, 파이썬 역시 정수, 실수, 불리언, 문자열 같은 기본 자료형을 갖고 있으며 형태 역시 유사하다.\n",
    "    단, 파이썬에는 증감 다항연산자 (++, --)가 없다."
   ]
  },
  {
   "cell_type": "code",
   "execution_count": 10,
   "metadata": {},
   "outputs": [
    {
     "name": "stdout",
     "output_type": "stream",
     "text": [
      "<class 'int'>\n",
      "3\n",
      "4\n",
      "2\n",
      "6\n",
      "9\n",
      "4\n",
      "8\n",
      "<class 'float'>\n",
      "2.5 3.5 5.0 6.25\n"
     ]
    }
   ],
   "source": [
    "x = 3\n",
    "print(type(x)) # 출력 \"<type 'int'>\"\n",
    "print(x)       # 출력 \"3\"\n",
    "print(x + 1)   # 덧셈; 출력 \"4\"\n",
    "print(x - 1)   # 뺄셈; 출력 \"2\"\n",
    "print(x * 2)   # 곱셈; 출력 \"6\"\n",
    "print(x ** 2)  # 제곱; 출력 \"9\"\n",
    "x += 1\n",
    "print(x)  # 출력 \"4\"\n",
    "x *= 2\n",
    "print(x)  # 출력 \"8\"\n",
    "y = 2.5\n",
    "print(type(y)) # 출력 \"<type 'float'>\"\n",
    "print(y, y + 1, y * 2, y ** 2) # 출력 \"2.5 3.5 5.0 6.25\""
   ]
  },
  {
   "cell_type": "code",
   "execution_count": 12,
   "metadata": {
    "scrolled": true
   },
   "outputs": [
    {
     "name": "stdout",
     "output_type": "stream",
     "text": [
      "<class 'bool'>\n",
      "False\n",
      "True\n",
      "False\n",
      "True\n"
     ]
    }
   ],
   "source": [
    "t = True\n",
    "f = False\n",
    "print(type(t)) # 출력 \"<type 'bool'>\"\n",
    "print(t and f) # 논리 AND; 출력 \"False\"\n",
    "print(t or f)  # 논리 OR; 출력 \"True\"\n",
    "print(not t)   # 논리 NOT; 출력 \"False\"\n",
    "print(t != f)  # 논리 XOR; 출력 \"True\""
   ]
  },
  {
   "cell_type": "code",
   "execution_count": 1,
   "metadata": {},
   "outputs": [
    {
     "name": "stdout",
     "output_type": "stream",
     "text": [
      "hello\n",
      "5\n",
      "hello world\n",
      "hello world 12\n"
     ]
    }
   ],
   "source": [
    "hello = 'hello'   # String 문자열을 표현할 땐 따옴표나\n",
    "world = \"world\"   # 쌍따옴표가 사용되는데 어떤것을 쓰더라도 상관은 없음\n",
    "print(hello)       # 출력 \"hello\"\n",
    "print(len(hello))  # 문자열 길이; 출력 \"5\"\n",
    "hw = hello + ' ' + world  # 문자열 연결\n",
    "print(hw)  # 출력 \"hello world\"\n",
    "hw12 = '%s %s %d' % (hello, world, 12)  # sprintf 방식의 문자열 서식 지정\n",
    "print(hw12)  # 출력 \"hello world 12\""
   ]
  },
  {
   "cell_type": "code",
   "execution_count": 14,
   "metadata": {},
   "outputs": [
    {
     "name": "stdout",
     "output_type": "stream",
     "text": [
      "Hello\n",
      "HELLO\n",
      "  hello\n",
      " hello \n",
      "he(ell)(ell)o\n",
      "world\n"
     ]
    }
   ],
   "source": [
    "s = \"hello\"\n",
    "print(s.capitalize())  # 문자열을 대문자로 시작하게 함; 출력 \"Hello\"\n",
    "print(s.upper())       # 모든 문자를 대문자로 바꿈; 출력 \"HELLO\"\n",
    "print(s.rjust(7))      # 문자열 오른쪽 정렬, 빈공간은 여백으로 채움; 출력 \"  hello\"\n",
    "print(s.center(7))     # 문자열 가운데 정렬, 빈공간은 여백으로 채움; 출력 \" hello \"\n",
    "print(s.replace('l', '(ell)'))  # 첫 번째 인자로 온 문자열을 두 번째 인자 문자열로 바꿈;\n",
    "                               # 출력 \"he(ell)(ell)o\"\n",
    "print('  world '.strip())  # 문자열 앞뒤 공백 제거; 출력 \"world\""
   ]
  },
  {
   "cell_type": "markdown",
   "metadata": {},
   "source": [
    "## 컨테이너\n",
    "    파이썬은 다음과 같은 컨테이너 타입들이 구현되어 있다\n",
    "   ### 리스트\n",
    "       리스트는 다른언어의 배열과 같은 존재로, 일반적인 배열과는 달리 크기 변경이 가능하고 서로 다른 자료형일지라도\n",
    "       하나의 리스트에 저장이 가능하다."
   ]
  },
  {
   "cell_type": "code",
   "execution_count": 21,
   "metadata": {},
   "outputs": [
    {
     "name": "stdout",
     "output_type": "stream",
     "text": [
      "[3, 1, 2] 2\n",
      "2\n",
      "[3, 1, 'foo']\n",
      "[3, 1, 'foo', 'bar']\n",
      "bar [3, 1, 'foo']\n"
     ]
    }
   ],
   "source": [
    "xs = [3, 1, 2]   # 리스트 생성\n",
    "print(xs, xs[2])  # 출력 \"[3, 1, 2] 2\"\n",
    "print(xs[-1])     # 인덱스가 음수일 경우 리스트의 끝에서부터 세어짐; 출력 \"2\"\n",
    "xs[2] = 'foo'    # 리스트는 자료형이 다른 요소들을 저장할 수 있습니다\n",
    "print(xs)         # 출력 \"[3, 1, 'foo']\"\n",
    "xs.append('bar') # 리스트의 끝에 새 요소 추가\n",
    "print(xs)         # 출력 \"[3, 1, 'foo', 'bar']\"\n",
    "x = xs.pop()     # 리스트의 마지막 요소 삭제하고 반환\n",
    "print(x, xs)      # 출력 \"bar [3, 1, 'foo']\""
   ]
  },
  {
   "cell_type": "markdown",
   "metadata": {},
   "source": [
    "#### 슬라이싱\n",
    "    리스트의 요소로 한 번에 접근하는것 이외에 파이썬은 리스트의 일부분에만 접근하는 문법을 따로 제공하며, 이를 슬라이싱이라고 한다.\n",
    "    (python3 변경점 - 참조한 튜토리얼에서는 Range()로 리스트를 만들어 주었지만, range()는 리스트가 아닌 범위를 나타내는 것으로 바뀌었기\n",
    "    때문에 리스트로서 활용하려면 list()안에 넣어주거나 []로 선언해줘야한다.)"
   ]
  },
  {
   "cell_type": "code",
   "execution_count": 99,
   "metadata": {},
   "outputs": [
    {
     "name": "stdout",
     "output_type": "stream",
     "text": [
      "[0, 1, 2, 3, 4]\n",
      "[2, 3]\n",
      "[2, 3, 4]\n",
      "[0, 1]\n",
      "[0, 1, 2, 3, 4]\n",
      "[0, 1, 2, 3]\n",
      "[0, 1, 8, 9, 4]\n"
     ]
    }
   ],
   "source": [
    "nums = [0,1,2,3,4]   # range는 파이썬에 구현되어 있는 함수이며 정수들로 구성된 리스트를 만듭니다\n",
    "print(nums)         # 출력 \"[0, 1, 2, 3, 4]\"\n",
    "print(nums[2:4])    # 인덱스 2에서 4(제외)까지 슬라이싱; 출력 \"[2, 3]\"\n",
    "print(nums[2:])     # 인덱스 2에서 끝까지 슬라이싱; 출력 \"[2, 3, 4]\"\n",
    "print(nums[:2])     # 처음부터 인덱스 2(제외)까지 슬라이싱; 출력 \"[0, 1]\"\n",
    "print(nums[:])      # 전체 리스트 슬라이싱; 출력 [\"0, 1, 2, 3, 4]\"\n",
    "print(nums[:-1])    # 슬라이싱 인덱스는 음수도 가능; 출력 [\"0, 1, 2, 3]\"\n",
    "nums[2:4] = [8,9] # 슬라이스된 리스트에 새로운 리스트 할당\n",
    "print(nums)         # 출력 \"[0, 1, 8, 9, 4]\""
   ]
  },
  {
   "cell_type": "markdown",
   "metadata": {},
   "source": [
    "**반복문** : 아래와 같이 리스트의 요소들을 반복해서 조회할 수 있다."
   ]
  },
  {
   "cell_type": "code",
   "execution_count": 102,
   "metadata": {},
   "outputs": [
    {
     "name": "stdout",
     "output_type": "stream",
     "text": [
      "cat\n",
      "dog\n",
      "monkey\n"
     ]
    }
   ],
   "source": [
    "animals = ['cat', 'dog', 'monkey']\n",
    "for animal in animals:\n",
    "    print(animal)\n",
    "# 출력 \"cat\", \"dog\", \"monkey\", 한 줄에 하나씩 출력."
   ]
  },
  {
   "cell_type": "markdown",
   "metadata": {},
   "source": [
    "반복문 내에서 리스트 각 요소의 인덱스에 접근하고 싶다면, ‘enumerate’ 함수를 사용한다."
   ]
  },
  {
   "cell_type": "code",
   "execution_count": 105,
   "metadata": {},
   "outputs": [
    {
     "name": "stdout",
     "output_type": "stream",
     "text": [
      "#1: cat\n",
      "#2: dog\n",
      "#3: monkey\n"
     ]
    }
   ],
   "source": [
    "animals = ['cat', 'dog', 'monkey']\n",
    "for idx, animal in enumerate(animals):\n",
    "    print('#%d: %s' % (idx + 1, animal))\n",
    "# 출력 \"#1: cat\", \"#2: dog\", \"#3: monkey\", 한 줄에 하나씩 출력."
   ]
  },
  {
   "cell_type": "markdown",
   "metadata": {},
   "source": [
    "### 딕셔너리\n",
    "    자바의 ‘맵’, 자바스크립트의 ‘오브젝트’와 유사하게, 파이썬의 ‘딕셔너리’는 (열쇠, 값) 쌍을 저장한다.\n",
    "    아래와 같은 방식으로 딕셔너리를 사용할 수 있다."
   ]
  },
  {
   "cell_type": "code",
   "execution_count": 108,
   "metadata": {},
   "outputs": [
    {
     "name": "stdout",
     "output_type": "stream",
     "text": [
      "cute\n",
      "True\n",
      "wet\n",
      "N/A\n",
      "wet\n",
      "N/A\n"
     ]
    }
   ],
   "source": [
    "d = {'cat': 'cute', 'dog': 'furry'}  # 새로운 딕셔너리를 만듭니다\n",
    "print(d['cat'])       # 딕셔너리의 값을 받음; 출력 \"cute\"\n",
    "print('cat' in d)     # 딕셔너리가 주어진 열쇠를 가졌는지 확인; 출력 \"True\"\n",
    "d['fish'] = 'wet'    # 딕셔너리의 값을 지정\n",
    "print(d['fish'])      # 출력 \"wet\"\n",
    "# print d['monkey']  # KeyError: 'monkey' not a key of d\n",
    "print( d.get('monkey', 'N/A'))  # 딕셔너리의 값을 받음. 존재하지 않는 다면 'N/A'; 출력 \"N/A\"\n",
    "print( d.get('fish', 'N/A'))    # 딕셔너리의 값을 받음. 존재하지 않는 다면 'N/A'; 출력 \"wet\"\n",
    "del d['fish']        # 딕셔너리에 저장된 요소 삭제\n",
    "print(d.get('fish', 'N/A')) # \"fish\"는 더 이상 열쇠가 아님; 출력 \"N/A\""
   ]
  },
  {
   "cell_type": "code",
   "execution_count": 110,
   "metadata": {},
   "outputs": [
    {
     "name": "stdout",
     "output_type": "stream",
     "text": [
      "A person has 2 legs\n",
      "A cat has 4 legs\n",
      "A spider has 8 legs\n"
     ]
    }
   ],
   "source": [
    "d = {'person': 2, 'cat': 4, 'spider': 8}\n",
    "for animal in d:\n",
    "    legs = d[animal]\n",
    "    print('A %s has %d legs' % (animal, legs))\n",
    "# 출력 \"A person has 2 legs\", \"A spider has 8 legs\", \"A cat has 4 legs\", 한 줄에 하나씩 출력."
   ]
  },
  {
   "cell_type": "markdown",
   "metadata": {},
   "source": [
    "### 집합\n",
    "    집합은 순서 구분이 없고 서로 다른 요소 간의 모임이다."
   ]
  },
  {
   "cell_type": "code",
   "execution_count": 113,
   "metadata": {},
   "outputs": [
    {
     "name": "stdout",
     "output_type": "stream",
     "text": [
      "True\n",
      "False\n",
      "True\n",
      "3\n",
      "3\n",
      "2\n"
     ]
    }
   ],
   "source": [
    "animals = {'cat', 'dog'}\n",
    "print('cat' in animals)   # 요소가 집합에 포함되어 있는지 확인; 출력 \"True\"\n",
    "print('fish' in animals)  # 출력 \"False\"\n",
    "animals.add('fish')      # 요소를 집합에 추가\n",
    "print('fish' in animals)  # 출력 \"True\"\n",
    "print(len(animals))       # 집합에 포함된 요소의 수; 출력 \"3\"\n",
    "animals.add('cat')       # 이미 포함되어있는 요소를 추가할 경우 아무 변화 없음\n",
    "print(len(animals))       # 출력 \"3\"\n",
    "animals.remove('cat')    # Remove an element from a set\n",
    "print(len(animals))       # 출력 \"2\""
   ]
  },
  {
   "cell_type": "markdown",
   "metadata": {},
   "source": [
    "**반복문** : 집합을 반복하는 구문은 리스트 반복 구문과 동일하다. 단, 집합은 순서가 없기 때문에 어떤 순서로 반복될지 추측할수 없다."
   ]
  },
  {
   "cell_type": "code",
   "execution_count": 119,
   "metadata": {},
   "outputs": [
    {
     "name": "stdout",
     "output_type": "stream",
     "text": [
      "#1: dog\n",
      "#2: fish\n",
      "#3: cat\n"
     ]
    }
   ],
   "source": [
    "animals = {'fish', 'dog','cat'}\n",
    "for idx, animal in enumerate(animals):\n",
    "    print('#%d: %s' % (idx + 1, animal))\n",
    "# 출력 \"#1: fish\", \"#2: dog\", \"#3: cat\", 한 줄에 하나씩 출력."
   ]
  },
  {
   "cell_type": "markdown",
   "metadata": {},
   "source": [
    "### 튜플\n",
    "    튜플은 요소 간에 순서가 있으며 값이 변하지 않는 리스트이다. 리스트와 유사하자만\n",
    "    튜플은 '딕셔너리 형의 키값'과 '집합의 요소'가 될 수 있지만 리스트는 불가능 하다."
   ]
  },
  {
   "cell_type": "code",
   "execution_count": 130,
   "metadata": {},
   "outputs": [
    {
     "name": "stdout",
     "output_type": "stream",
     "text": [
      "<class 'tuple'>\n",
      "5\n",
      "1\n"
     ]
    },
    {
     "ename": "TypeError",
     "evalue": "unhashable type: 'list'",
     "output_type": "error",
     "traceback": [
      "\u001b[1;31m---------------------------------------------------------------------------\u001b[0m",
      "\u001b[1;31mTypeError\u001b[0m                                 Traceback (most recent call last)",
      "\u001b[1;32m<ipython-input-130-0271d22a18d4>\u001b[0m in \u001b[0;36m<module>\u001b[1;34m()\u001b[0m\n\u001b[0;32m      6\u001b[0m \u001b[0mprint\u001b[0m\u001b[1;33m(\u001b[0m\u001b[0md\u001b[0m\u001b[1;33m[\u001b[0m\u001b[0mt\u001b[0m\u001b[1;33m]\u001b[0m\u001b[1;33m)\u001b[0m       \u001b[1;31m# 출력 \"5\"\u001b[0m\u001b[1;33m\u001b[0m\u001b[0m\n\u001b[0;32m      7\u001b[0m \u001b[0mprint\u001b[0m\u001b[1;33m(\u001b[0m\u001b[0md\u001b[0m\u001b[1;33m[\u001b[0m\u001b[1;33m(\u001b[0m\u001b[1;36m1\u001b[0m\u001b[1;33m,\u001b[0m \u001b[1;36m2\u001b[0m\u001b[1;33m)\u001b[0m\u001b[1;33m]\u001b[0m\u001b[1;33m)\u001b[0m  \u001b[1;31m# 출력 \"1\"\u001b[0m\u001b[1;33m\u001b[0m\u001b[0m\n\u001b[1;32m----> 8\u001b[1;33m \u001b[0mprint\u001b[0m\u001b[1;33m(\u001b[0m\u001b[0md\u001b[0m\u001b[1;33m[\u001b[0m\u001b[0mL\u001b[0m\u001b[1;33m]\u001b[0m\u001b[1;33m)\u001b[0m       \u001b[1;31m# error!\u001b[0m\u001b[1;33m\u001b[0m\u001b[0m\n\u001b[0m",
      "\u001b[1;31mTypeError\u001b[0m: unhashable type: 'list'"
     ]
    }
   ],
   "source": [
    "d = {(x, x + 1): x for x in range(10)}  # 튜플을 열쇠로 하는 딕셔너리 생성\n",
    "t = (5, 6)       # 튜플 생성\n",
    "L = [5, 6]\n",
    "\n",
    "print(type(t))    # 출력 \"<type 'tuple'>\"\n",
    "print(d[t])       # 출력 \"5\"\n",
    "print(d[(1, 2)])  # 출력 \"1\"\n",
    "print(d[L])       # error!"
   ]
  },
  {
   "cell_type": "markdown",
   "metadata": {},
   "source": [
    "## 함수\n",
    "    파이썬의 함수는 'def' 키워드를 통해 정의된다."
   ]
  },
  {
   "cell_type": "code",
   "execution_count": 121,
   "metadata": {},
   "outputs": [
    {
     "name": "stdout",
     "output_type": "stream",
     "text": [
      "negative\n",
      "zero\n",
      "positive\n"
     ]
    }
   ],
   "source": [
    "def sign(x):\n",
    "    if x > 0:\n",
    "        return 'positive'\n",
    "    elif x < 0:\n",
    "        return 'negative'\n",
    "    else:\n",
    "        return 'zero'\n",
    "\n",
    "for x in [-1, 0, 1]:\n",
    "    print(sign(x))\n",
    "# 출력 \"negative\", \"zero\", \"positive\", 한 줄에 하나씩 출력."
   ]
  },
  {
   "cell_type": "markdown",
   "metadata": {},
   "source": [
    "## 클래스\n",
    "    파이썬에서 클래스는 'class'키워드를 통해 정의된다."
   ]
  },
  {
   "cell_type": "code",
   "execution_count": 123,
   "metadata": {},
   "outputs": [
    {
     "name": "stdout",
     "output_type": "stream",
     "text": [
      "Hello, Fred\n",
      "HELLO, FRED!\n"
     ]
    }
   ],
   "source": [
    "class Greeter(object):\n",
    "\n",
    "    # 생성자\n",
    "    def __init__(self, name):\n",
    "        self.name = name  # 인스턴스 변수 선언\n",
    "\n",
    "    # 인스턴스 메소드\n",
    "    def greet(self, loud=False):\n",
    "        if loud:\n",
    "            print('HELLO, %s!' % self.name.upper())\n",
    "        else:\n",
    "            print('Hello, %s' % self.name)\n",
    "\n",
    "g = Greeter('Fred')  # Greeter 클래스의 인스턴스 생성\n",
    "g.greet()            # 인스턴스 메소드 호출; 출력 \"Hello, Fred\"\n",
    "g.greet(loud=True)   # 인스턴스 메소드 호출; 출력 \"HELLO, FRED!\""
   ]
  },
  {
   "cell_type": "markdown",
   "metadata": {},
   "source": [
    "# Numpy\n",
    "    Numarray와 Numeric이라는 오래된 Python 패키지를 계승해서 나온 수학 및 과학 연산을 위한 파이썬 패키지이다. \n",
    "    Numpy자체는 파이썬으로 되어 있지만, 내부는 상당부분 C나 포트란으로 되어있어 실행 속도는 꽤 빠른편이다.\n",
    "    \n",
    "    Numpy는 기본적으로 array라는 자료를 생성하고 이를 바탕으로 색인, 처리, 연산을 하는 기능을 수행한다. 이때 \n",
    "    Scipy, Paandas, matplotlib 등의 다른 패키지와 함께 쓰이는 경우가 많다.\n",
    "    \n",
    "    NumPy는 파이썬으로 수치해석, 통계 관련 기능을 구현할때 가장 기본이 되는 모듈로 파이썬으로 관련 분야를 공부 할 경우\n",
    "    반드시 익히고 가야하는 모듈이다. "
   ]
  },
  {
   "cell_type": "markdown",
   "metadata": {},
   "source": [
    "### 배열\n",
    "    Numpy 배열은 동일한 자료형을 가지는 값들이 격자판 형태로 있는 것으로 각각의 값들은 튜플 형태로 색인 된다.\n",
    "    이때 튜플은 양의 정수만을 요소 값으로 갖는다.\n",
    "    \n",
    "    rank는 배열이 몇 차원인지를, shape는 각 차원의 크기를 알려주는 정수들이 모인 튜플이다.\n",
    "    파이썬의 리스트를 중첩하여 Numpy의 배열을 초기화 할 수 있고, 대괄호를 통해 각 요소에 접근할 수 있다."
   ]
  },
  {
   "cell_type": "code",
   "execution_count": 4,
   "metadata": {},
   "outputs": [
    {
     "name": "stdout",
     "output_type": "stream",
     "text": [
      "<class 'numpy.ndarray'>\n",
      "1\n",
      "(3,)\n",
      "1 2 3\n",
      "[5 2 3]\n",
      "2\n",
      "(2, 3)\n",
      "1 2 4\n"
     ]
    }
   ],
   "source": [
    "import numpy as np\n",
    "\n",
    "a = np.array([1, 2, 3])  # ndim가 1인 배열 생성\n",
    "print(type(a))            # 출력 \"<type 'numpy.ndarray'>\"\n",
    "print(a.ndim)            # 출력 \"1\"\n",
    "print(a.shape)            # 출력 \"(3,)\"\n",
    "print(a[0], a[1], a[2])   # 출력 \"1 2 3\"\n",
    "a[0] = 5                 # 요소를 변경\n",
    "print(a)                  # 출력 \"[5, 2, 3]\"\n",
    "\n",
    "b = np.array([[1,2,3],[4,5,6]])   # ndim가 2인 배열 생성\n",
    "print(b.ndim)                     # 출력 \"2\"\n",
    "print(b.shape)                    # 출력 \"(2, 3)\"\n",
    "print(b[0, 0], b[0, 1], b[1, 0])  # 출력 \"1 2 4\""
   ]
  },
  {
   "cell_type": "markdown",
   "metadata": {},
   "source": [
    "    리스트의 중첩이 아니더라도 Numpy는 배열을 만들기 위한 다양한 함수를 제공한다."
   ]
  },
  {
   "cell_type": "code",
   "execution_count": 142,
   "metadata": {},
   "outputs": [
    {
     "name": "stdout",
     "output_type": "stream",
     "text": [
      "[[0. 0.]\n",
      " [0. 0.]]\n",
      "[[1. 1.]]\n",
      "[[7 7]\n",
      " [7 7]]\n",
      "[[1. 0.]\n",
      " [0. 1.]]\n",
      "[[0.50593128 0.95261529]\n",
      " [0.44064365 0.20704767]]\n"
     ]
    }
   ],
   "source": [
    "a = np.zeros((2,2))  # 모든 값이 0인 배열 생성\n",
    "print(a)              # 출력 \"[[ 0.  0.]\n",
    "                     #       [ 0.  0.]]\"\n",
    "\n",
    "b = np.ones((1,2))   # 모든 값이 1인 배열 생성\n",
    "print(b)              # 출력 \"[[ 1.  1.]]\"\n",
    "\n",
    "c = np.full((2,2), 7) # 모든 값이 특정 상수인 배열 생성\n",
    "print(c)               # 출력 \"[[ 7.  7.]\n",
    "                      #       [ 7.  7.]]\"\n",
    "\n",
    "d = np.eye(2)        # 2x2 단위행렬 생성\n",
    "print(d)              # 출력 \"[[ 1.  0.]\n",
    "                     #       [ 0.  1.]]\"\n",
    "\n",
    "e = np.random.random((2,2)) # 임의의 값으로 채워진 배열 생성\n",
    "print(e)                     # 임의의 값 출력 \"[[ 0.91940167  0.08143941]\n",
    "                            #                  [ 0.68744134  0.87236687]]\""
   ]
  },
  {
   "cell_type": "markdown",
   "metadata": {},
   "source": [
    "### 배열 인덱싱\n",
    "    Numpy는 배열을 인덱싱하는 몇 가지 방법을 제공한다.\n",
    "    \n",
    "#### 슬라이싱\n",
    "    파이썬 리스트와 유사하게 Numpy의 배열도 슬라이싱이 가능하다. Numpy 배열은 다차원인 경우가 많기에\n",
    "    각 차원별로 어떻게 슬라이스 할 것인지 명확히 해야한다."
   ]
  },
  {
   "cell_type": "code",
   "execution_count": 5,
   "metadata": {},
   "outputs": [
    {
     "name": "stdout",
     "output_type": "stream",
     "text": [
      "2\n",
      "77\n"
     ]
    }
   ],
   "source": [
    "# Create the following rank 2 array with shape (3, 4)\n",
    "# [[ 1  2  3  4]\n",
    "#  [ 5  6  7  8]\n",
    "#  [ 9 10 11 12]]\n",
    "a = np.array([[1,2,3,4], [5,6,7,8], [9,10,11,12]])\n",
    "\n",
    "# 슬라이싱을 이용하여 첫 두 행과 1열, 2열로 이루어진 부분배열을 만들어 본다.\n",
    "# b는 shape가 (2,2)인 배열이 된다.\n",
    "# [[2 3]\n",
    "#  [6 7]]\n",
    "b = a[:2, 1:3]\n",
    "\n",
    "# 슬라이싱된 배열은 원본 배열과 같은 데이터를 참조한다. 즉 슬라이싱된 배열을 수정하면\n",
    "# 원본 배열 역시 수정됨\n",
    "print(a[0, 1])   # 출력 \"2\"\n",
    "b[0, 0] = 77    # b[0, 0]은 a[0, 1]과 같은 데이터\n",
    "print(a[0, 1])   # 출력 \"77\""
   ]
  },
  {
   "cell_type": "markdown",
   "metadata": {},
   "source": [
    "    정수를 이용한 인덱싱과 슬라이싱을 혼합하여 사용할 수 있다. 단 이렇게 할 경우 기존의 배열보다 낮은\n",
    "    rank의 배열이 얻어진다."
   ]
  },
  {
   "cell_type": "code",
   "execution_count": 143,
   "metadata": {},
   "outputs": [
    {
     "name": "stdout",
     "output_type": "stream",
     "text": [
      "[5 6 7 8] (4,)\n",
      "[[5 6 7 8]] (1, 4)\n",
      "[ 2  6 10] (3,)\n",
      "[[ 2]\n",
      " [ 6]\n",
      " [10]] (3, 1)\n"
     ]
    }
   ],
   "source": [
    "import numpy as np\n",
    "\n",
    "# 아래와 같은 요소를 가지는 rank가 2이고 shape가 (3, 4)인 배열 생성\n",
    "# [[ 1  2  3  4]\n",
    "#  [ 5  6  7  8]\n",
    "#  [ 9 10 11 12]]\n",
    "a = np.array([[1,2,3,4], [5,6,7,8], [9,10,11,12]])\n",
    "\n",
    "# 배열의 중간 행에 접근하는 두 가지 방법이 있습니다.\n",
    "# 정수 인덱싱과 슬라이싱을 혼합해서 사용하면 낮은 rank의 배열이 생성되지만,\n",
    "# 슬라이싱만 사용하면 원본 배열과 동일한 rank의 배열이 생성됩니다.\n",
    "row_r1 = a[1, :]    # 배열a의 두 번째 행을 rank가 1인 배열로\n",
    "row_r2 = a[1:2, :]  # 배열a의 두 번째 행을 rank가 2인 배열로\n",
    "print(row_r1, row_r1.shape)  # 출력 \"[5 6 7 8] (4,)\"\n",
    "print(row_r2, row_r2.shape)  # 출력 \"[[5 6 7 8]] (1, 4)\"\n",
    "\n",
    "# 행이 아닌 열의 경우에도 마찬가지입니다:\n",
    "col_r1 = a[:, 1]\n",
    "col_r2 = a[:, 1:2]\n",
    "print(col_r1, col_r1.shape)  # 출력 \"[ 2  6 10] (3,)\"\n",
    "print(col_r2, col_r2.shape)  # 출력 \"[[ 2]\n",
    "                            #       [ 6]\n",
    "                            #       [10]] (3, 1)\""
   ]
  },
  {
   "cell_type": "markdown",
   "metadata": {},
   "source": [
    "#### 정수 배열 인덱싱\n",
    "    Numpy 배열을 슬라이싱하면, 결과로 얻어지는 배열은 언제나 원본 배열의 부분 배열로 나온다. 그러나 정수 배열 인덱싱을 한다면, \n",
    "    원본과 다른 배열을 만들 수 있다."
   ]
  },
  {
   "cell_type": "code",
   "execution_count": 145,
   "metadata": {
    "scrolled": true
   },
   "outputs": [
    {
     "name": "stdout",
     "output_type": "stream",
     "text": [
      "[1 4 5]\n",
      "[1 4 5]\n",
      "[2 2]\n",
      "[2 2]\n"
     ]
    }
   ],
   "source": [
    "a = np.array([[1,2], [3, 4], [5, 6]])\n",
    "\n",
    "# 정수 배열 인덱싱의 예.\n",
    "# 반환되는 배열의 shape는 (3,)\n",
    "print(a[[0, 1, 2], [0, 1, 0]])  # 출력 \"[1 4 5]\"\n",
    "\n",
    "# 위에서 본 정수 배열 인덱싱 예제는 다음과 동일합니다:\n",
    "print(np.array([a[0, 0], a[1, 1], a[2, 0]]))  # 출력 \"[1 4 5]\"\n",
    "\n",
    "# 정수 배열 인덱싱을 사용할 때,\n",
    "# 원본 배열의 같은 요소를 재사용할 수 있습니다:\n",
    "print(a[[0, 0], [1, 1]])  # 출력 \"[2 2]\"\n",
    "\n",
    "# 위 예제는 다음과 동일합니다\n",
    "print(np.array([a[0, 1], a[0, 1]]))  # 출력 \"[2 2]\""
   ]
  },
  {
   "cell_type": "markdown",
   "metadata": {},
   "source": [
    "#### 불리언 배열 인덱싱 \n",
    "    불리언 배열 인덱싱을 통해 배열 속 요소를 취사선택할 수 있다. 불리언 배열 인덱싱은 특정 조건을 만족하게 하는 \n",
    "    요소만 선택하고자 할 때 자주 사용된다."
   ]
  },
  {
   "cell_type": "code",
   "execution_count": 148,
   "metadata": {},
   "outputs": [
    {
     "name": "stdout",
     "output_type": "stream",
     "text": [
      "[[False False]\n",
      " [ True  True]\n",
      " [ True  True]]\n",
      "[3 4 5 6]\n",
      "[3 4 5 6]\n"
     ]
    }
   ],
   "source": [
    "a = np.array([[1,2], [3, 4], [5, 6]])\n",
    "\n",
    "bool_idx = (a > 2)  # 2보다 큰 a의 요소를 찾습니다;\n",
    "                    # 이 코드는 a와 shape가 같고 불리언 자료형을 요소로 하는 numpy 배열을 반환합니다,\n",
    "                    # bool_idx의 각 요소는 동일한 위치에 있는 a의\n",
    "                    # 요소가 2보다 큰지를 말해줍니다.\n",
    "\n",
    "print(bool_idx)      # 출력 \"[[False False]\n",
    "                    #       [ True  True]\n",
    "                    #       [ True  True]]\"\n",
    "\n",
    "# 불리언 배열 인덱싱을 통해 bool_idx에서\n",
    "# 참 값을 가지는 요소로 구성되는\n",
    "# rank 1인 배열을 구성할 수 있습니다.\n",
    "print(a[bool_idx])  # 출력 \"[3 4 5 6]\"\n",
    "\n",
    "# 위에서 한 모든것을 한 문장으로 할 수 있습니다:\n",
    "print(a[a > 2])     # 출력 \"[3 4 5 6]\""
   ]
  },
  {
   "cell_type": "markdown",
   "metadata": {},
   "source": [
    "### 자료형\n",
    "    Numpy 배열은 동일한 자료형을 가지는 값들이 격자판 형태로 있는 것\n",
    "    Numpy에서는 배열을 구성하는데 사용할 수 있는 다양한 숫자 자료형을 제공하며, Numpy는 배열 생성시 스스로 자료형을 추측한다."
   ]
  },
  {
   "cell_type": "code",
   "execution_count": 150,
   "metadata": {},
   "outputs": [
    {
     "name": "stdout",
     "output_type": "stream",
     "text": [
      "int32\n",
      "float64\n",
      "int64\n"
     ]
    }
   ],
   "source": [
    "x = np.array([1, 2])  # Numpy가 자료형을 추측해서 선택\n",
    "print(x.dtype)         # 출력 \"int64\"\n",
    "\n",
    "x = np.array([1.0, 2.0])  # Numpy가 자료형을 추측해서 선택\n",
    "print(x.dtype)             # 출력 \"float64\"\n",
    "\n",
    "x = np.array([1, 2], dtype=np.int64)  # 특정 자료형을 명시적으로 지정\n",
    "print(x.dtype)                         # 출력 \"int64\""
   ]
  },
  {
   "cell_type": "markdown",
   "metadata": {},
   "source": [
    "### 배열 연산\n",
    "    Numpy를 이용하면 배열간 연산을 쉽게 실행할 수 있다. \n",
    "    연산은 연산자를 사용하거나 add(), substract()등의 함수를 사용할 수도 있다. "
   ]
  },
  {
   "cell_type": "code",
   "execution_count": 153,
   "metadata": {},
   "outputs": [
    {
     "name": "stdout",
     "output_type": "stream",
     "text": [
      "[[ 6.  8.]\n",
      " [10. 12.]]\n",
      "[[ 6.  8.]\n",
      " [10. 12.]]\n",
      "[[-4. -4.]\n",
      " [-4. -4.]]\n",
      "[[-4. -4.]\n",
      " [-4. -4.]]\n",
      "[[ 5. 12.]\n",
      " [21. 32.]]\n",
      "[[ 5. 12.]\n",
      " [21. 32.]]\n",
      "[[0.2        0.33333333]\n",
      " [0.42857143 0.5       ]]\n",
      "[[0.2        0.33333333]\n",
      " [0.42857143 0.5       ]]\n",
      "[[1.         1.41421356]\n",
      " [1.73205081 2.        ]]\n"
     ]
    }
   ],
   "source": [
    "x = np.array([[1,2],[3,4]], dtype=np.float64)\n",
    "y = np.array([[5,6],[7,8]], dtype=np.float64)\n",
    "\n",
    "# 요소별 합; 둘 다 다음의 배열을 만듭니다\n",
    "# [[ 6.0  8.0]\n",
    "#  [10.0 12.0]]\n",
    "print(x + y)\n",
    "print(np.add(x, y))\n",
    "\n",
    "# 요소별 차; 둘 다 다음의 배열을 만듭니다\n",
    "# [[-4.0 -4.0]\n",
    "#  [-4.0 -4.0]]\n",
    "print(x - y)\n",
    "print(np.subtract(x, y))\n",
    "\n",
    "# 요소별 곱; 둘 다 다음의 배열을 만듭니다\n",
    "# [[ 5.0 12.0]\n",
    "#  [21.0 32.0]]\n",
    "print(x * y)\n",
    "print(np.multiply(x, y))\n",
    "\n",
    "# 요소별 나눗셈; 둘 다 다음의 배열을 만듭니다\n",
    "# [[ 0.2         0.33333333]\n",
    "#  [ 0.42857143  0.5       ]]\n",
    "print(x / y)\n",
    "print(np.divide(x, y))\n",
    "\n",
    "# 요소별 제곱근; 다음의 배열을 만듭니다\n",
    "# [[ 1.          1.41421356]\n",
    "#  [ 1.73205081  2.        ]]\n",
    "print(np.sqrt(x))"
   ]
  },
  {
   "cell_type": "markdown",
   "metadata": {},
   "source": [
    "### 브로드캐스팅\n",
    "    브로드캐스팅은 Numpy에서 shape가 다른 배열간에도 산술 연산이 가능하게 하도록 하는 매커니즘이다.\n",
    "    예시로 행렬의 각 행에 상수 벡터를 더하는 문제의 경우 다음과 같이 해결할 수 있다."
   ]
  },
  {
   "cell_type": "code",
   "execution_count": 155,
   "metadata": {},
   "outputs": [
    {
     "name": "stdout",
     "output_type": "stream",
     "text": [
      "[[ 2  2  4]\n",
      " [ 5  5  7]\n",
      " [ 8  8 10]\n",
      " [11 11 13]]\n"
     ]
    }
   ],
   "source": [
    "# 행렬 x의 각 행에 벡터 v를 더한 뒤,\n",
    "# 그 결과를 행렬 y에 저장하고자 합니다\n",
    "x = np.array([[1,2,3], \n",
    "              [4,5,6], \n",
    "              [7,8,9], \n",
    "              [10,11,12]])\n",
    "v = np.array([1, 0, 1])\n",
    "y = np.empty_like(x)   # x와 동일한 shape를 가지며 비어있는 행렬 생성\n",
    "\n",
    "# 명시적 반복문을 통해 행렬 x의 각 행에 벡터 v를 더하는 방법\n",
    "for i in range(4):\n",
    "    y[i, :] = x[i, :] + v\n",
    "\n",
    "# 이제 y는 다음과 같습니다\n",
    "# [[ 2  2  4]\n",
    "#  [ 5  5  7]\n",
    "#  [ 8  8 10]\n",
    "#  [11 11 13]]\n",
    "print(y)"
   ]
  },
  {
   "cell_type": "markdown",
   "metadata": {},
   "source": [
    "    그러나 파이썬의 반복문을 이용한 위 코드는 x가 커지면 매우 느려지게 된다. 벡터 v를 x의 크기만큼 복사해 만든 행렬 vv를 만들고\n",
    "    이를 x에 더하는 것으로 빠르게 풀수 있다."
   ]
  },
  {
   "cell_type": "code",
   "execution_count": 157,
   "metadata": {},
   "outputs": [
    {
     "name": "stdout",
     "output_type": "stream",
     "text": [
      "[[1 0 1]\n",
      " [1 0 1]\n",
      " [1 0 1]\n",
      " [1 0 1]]\n",
      "[[ 2  2  4]\n",
      " [ 5  5  7]\n",
      " [ 8  8 10]\n",
      " [11 11 13]]\n"
     ]
    }
   ],
   "source": [
    "# 벡터 v를 행렬 x의 각 행에 더한 뒤,\n",
    "# 그 결과를 행렬 y에 저장하고자 합니다\n",
    "x = np.array([[1,2,3], \n",
    "              [4,5,6], \n",
    "              [7,8,9], \n",
    "              [10, 11, 12]])\n",
    "v = np.array([1, 0, 1])\n",
    "vv = np.tile(v, (4, 1))  # v의 복사본 4개를 위로 차곡차곡 쌓은 것이 vv\n",
    "print(vv)                 # 출력 \"[[1 0 1]\n",
    "                         #       [1 0 1]\n",
    "                         #       [1 0 1]\n",
    "                         #       [1 0 1]]\"\n",
    "y = x + vv  # x와 vv의 요소별 합\n",
    "print(y)  # 출력 \"[[ 2  2  4\n",
    "         #       [ 5  5  7]\n",
    "         #       [ 8  8 10]\n",
    "         #       [11 11 13]]\""
   ]
  },
  {
   "cell_type": "markdown",
   "metadata": {},
   "source": [
    "    Numpy 브로드 캐스팅을 이용하면, 이렇게 vv행렬을 만들지 않고도 동일한 연산을 간편하게 처리할 수 있게된다."
   ]
  },
  {
   "cell_type": "code",
   "execution_count": 159,
   "metadata": {},
   "outputs": [
    {
     "name": "stdout",
     "output_type": "stream",
     "text": [
      "[[ 2  2  4]\n",
      " [ 5  5  7]\n",
      " [ 8  8 10]\n",
      " [11 11 13]]\n"
     ]
    }
   ],
   "source": [
    "x = np.array([[1,2,3], \n",
    "              [4,5,6], \n",
    "              [7,8,9], \n",
    "              [10, 11, 12]])\n",
    "v = np.array([1, 0, 1])\n",
    "y = x + v  # 브로드캐스팅을 이용하여 v를 x의 각 행에 더하기\n",
    "print(y)"
   ]
  },
  {
   "cell_type": "markdown",
   "metadata": {},
   "source": [
    "# SciPy\n",
    "    Numpy는 고성능의 다차원 배열 객체와 이를 다룰 도구를 제공한다. numpy를 바탕으로 만들어진 SciPy는,\n",
    "    Numpy 배열을 다루는 많은 과학, 공학 함수를 제공한다."
   ]
  },
  {
   "cell_type": "markdown",
   "metadata": {},
   "source": [
    "### 이미지 작업\n",
    "    SciPy는 이미지를 다룰 기본적인 함수들을 제공한다.\n",
    "    예시로 디스크에 저장된 이미지를 numpy배열로 읽어 들이는 함수가 있으며, 반대로 numpy배열을 디스크에 이미지로 저장할 수도 있으며,\n",
    "    numpy배열을 이용하여 이미지의 크기를 바꿀수도 있다.\n",
    "    \n",
    "    최근 다룬 딥러닝 작업에서 이미지를 이용하던 작업은 다음과 같이 SciPy로 Numpy 데이터로 바꾸어 학습을 시키게 되는 것이었다."
   ]
  },
  {
   "cell_type": "code",
   "execution_count": 173,
   "metadata": {},
   "outputs": [
    {
     "name": "stderr",
     "output_type": "stream",
     "text": [
      "C:\\Users\\VIP\\Anaconda3\\lib\\site-packages\\skimage\\transform\\_warps.py:105: UserWarning: The default mode, 'constant', will be changed to 'reflect' in skimage 0.15.\n",
      "  warn(\"The default mode, 'constant', will be changed to 'reflect' in \"\n",
      "C:\\Users\\VIP\\Anaconda3\\lib\\site-packages\\skimage\\transform\\_warps.py:110: UserWarning: Anti-aliasing will be enabled by default in skimage 0.15 to avoid aliasing artifacts when down-sampling images.\n",
      "  warn(\"Anti-aliasing will be enabled by default in skimage 0.15 to \"\n",
      "WARNING:root:Lossy conversion from float64 to uint8. Range [0.0, 255.0]. Convert image to uint8 prior to saving to suppress this warning.\n"
     ]
    },
    {
     "name": "stdout",
     "output_type": "stream",
     "text": [
      "uint8 (190, 140, 4)\n"
     ]
    }
   ],
   "source": [
    "import imageio\n",
    "from skimage import transform\n",
    "\n",
    "# JPEG 이미지를 numpy 배열로 읽어들이기\n",
    "img = imageio.imread('Asset/0.png')\n",
    "print(img.dtype, img.shape)  # 출력 \"uint8 (190, 140, 4), 세로 크기, 가로 크기, 색상 + 알파값\"\n",
    "\n",
    "# 각각의 색깔 채널을 다른 상수값으로 스칼라배함으로써\n",
    "# 이미지의 색을 변화시킬 수 있습니다.\n",
    "# 이미지의 shape는 (190, 140, 4)입니다;\n",
    "# 여기에 shape가 (3,)인 배열 [1, 0.95, 0.9]를 곱합니다;\n",
    "# numpy 브로드캐스팅에 의해 이 배열이 곱해지며 붉은색 채널은 변하지 않으며,\n",
    "# 초록색, 파란색 채널에는 각각 0.95, 0.9가 곱해집니다\n",
    "img_tinted = img * [1, 0.95, 0.9, 1]\n",
    "\n",
    "# 색변경 이미지를 300x300픽셀로 크기 조절.\n",
    "img_tinted = skimage.transform.resize(img_tinted, (100, 100))\n",
    "\n",
    "# 색변경 이미지를 디스크에 기록하기\n",
    "imageio.imwrite('Asset/0_.png', img_tinted)"
   ]
  },
  {
   "cell_type": "markdown",
   "metadata": {},
   "source": [
    "# Matplotlib\n",
    "    Matplotlib은 파이썬에서 널리 사용되는 그래픽 패키지로 Numpy를 사용하여 도표와 그래프를 쉽게 그릴 수 있게 해준다."
   ]
  },
  {
   "cell_type": "markdown",
   "metadata": {},
   "source": [
    "### Plotting\n",
    "    matplotlib에서 가장 중요한 함수는 2차원 데이터를 그릴 수 있게 해주는 plot이다."
   ]
  },
  {
   "cell_type": "code",
   "execution_count": 179,
   "metadata": {},
   "outputs": [
    {
     "data": {
      "image/png": "[encoded data removed]",
      "text/plain": [
       "<Figure size 432x288 with 1 Axes>"
      ]
     },
     "metadata": {},
     "output_type": "display_data"
    }
   ],
   "source": [
    "import numpy as np\n",
    "import matplotlib.pyplot as plt\n",
    "\n",
    "# 사인과 코사인 곡선의 x,y 좌표를 계산\n",
    "x = np.arange(0, 3 * np.pi, 0.1)\n",
    "y = np.sin(x)\n",
    "\n",
    "# matplotlib를 이용해 점들을 그리기\n",
    "plt.plot(x, y)\n",
    "\n",
    "# 사인과 코사인 곡선의 x,y 좌표를 계산\n",
    "x = np.arange(0, 3 * np.pi, 0.1)\n",
    "y_sin = np.sin(x)\n",
    "y_cos = np.cos(x)\n",
    "\n",
    "# matplotlib를 이용해 점들을 그리기\n",
    "plt.plot(x, y_sin)\n",
    "plt.plot(x, y_cos)\n",
    "plt.xlabel('x axis label')\n",
    "plt.ylabel('y axis label')\n",
    "plt.title('Sine and Cosine')\n",
    "plt.legend(['Sine', 'Cosine'])\n",
    "plt.show()"
   ]
  },
  {
   "cell_type": "markdown",
   "metadata": {},
   "source": [
    "### Subplots\n",
    "    Subplots를 이용하여 다른 내용의 그래프를 동일한 그림 위에 나타낼 수 있다."
   ]
  },
  {
   "cell_type": "code",
   "execution_count": 180,
   "metadata": {},
   "outputs": [
    {
     "data": {
      "image/png": "[encoded data removed]",
      "text/plain": [
       "<Figure size 432x288 with 2 Axes>"
      ]
     },
     "metadata": {},
     "output_type": "display_data"
    }
   ],
   "source": [
    "# 사인과 코사인 곡선의 x,y 좌표를 계산\n",
    "x = np.arange(0, 3 * np.pi, 0.1)\n",
    "y_sin = np.sin(x)\n",
    "y_cos = np.cos(x)\n",
    "\n",
    "# 높이가 2이고 너비가 1인 subplot 구획을 설정하고,\n",
    "# 첫 번째 구획을 활성화.\n",
    "plt.subplot(2, 1, 1)\n",
    "\n",
    "# 첫 번째 그리기\n",
    "plt.plot(x, y_sin)\n",
    "plt.title('Sine')\n",
    "\n",
    "# 두 번째 subplot 구획을 활성화 하고 그리기\n",
    "plt.subplot(2, 1, 2)\n",
    "plt.plot(x, y_cos)\n",
    "plt.title('Cosine')\n",
    "\n",
    "# 그림 보이기.\n",
    "plt.show()"
   ]
  },
  {
   "attachments": {},
   "cell_type": "markdown",
   "metadata": {},
   "source": [
    "### 이미지\n",
    "    Matplotlib은 imshow함수를 이용하여 이미지 나타낼 수 있다. Scipy로 이미지 처리를 한 예시를 출력하면 다음과 같다."
   ]
  },
  {
   "cell_type": "code",
   "execution_count": 183,
   "metadata": {},
   "outputs": [
    {
     "name": "stderr",
     "output_type": "stream",
     "text": [
      "C:\\Users\\VIP\\Anaconda3\\lib\\site-packages\\ipykernel_launcher.py:5: DeprecationWarning: `imread` is deprecated!\n",
      "`imread` is deprecated in SciPy 1.0.0, and will be removed in 1.2.0.\n",
      "Use ``imageio.imread`` instead.\n",
      "  \"\"\"\n",
      "C:\\Users\\VIP\\Anaconda3\\lib\\site-packages\\ipykernel_launcher.py:6: DeprecationWarning: `imread` is deprecated!\n",
      "`imread` is deprecated in SciPy 1.0.0, and will be removed in 1.2.0.\n",
      "Use ``imageio.imread`` instead.\n",
      "  \n"
     ]
    },
    {
     "data": {
      "image/png": "[encoded data removed]",
      "text/plain": [
       "<Figure size 432x288 with 2 Axes>"
      ]
     },
     "metadata": {},
     "output_type": "display_data"
    }
   ],
   "source": [
    "import numpy as np\n",
    "from scipy.misc import imread, imresize\n",
    "import matplotlib.pyplot as plt\n",
    "\n",
    "img = imread('asset/0.png')\n",
    "img_tinted = imread('asset/0_.png')\n",
    "\n",
    "# 원본 이미지 나타내기\n",
    "plt.subplot(1, 2, 1)\n",
    "plt.imshow(img)\n",
    "\n",
    "# 색변화된 이미지 나타내기\n",
    "plt.subplot(1, 2, 2)\n",
    "\n",
    "# imshow를 이용하며 주의할 점은 데이터의 자료형이\n",
    "# uint8이 아니라면 이상한 결과를 보여줄 수도 있다는 것입니다.\n",
    "# 그러므로 이미지를 나타내기 전에 명시적으로 자료형을 uint8로 형변환 해줍니다.\n",
    "\n",
    "plt.imshow(np.uint8(img_tinted))\n",
    "plt.show()"
   ]
  },
  {
   "cell_type": "code",
   "execution_count": null,
   "metadata": {},
   "outputs": [],
   "source": []
  }
 ],
 "metadata": {
  "kernelspec": {
   "display_name": "Python 3",
   "language": "python",
   "name": "python3"
  },
  "language_info": {
   "codemirror_mode": {
    "name": "ipython",
    "version": 3
   },
   "file_extension": ".py",
   "mimetype": "text/x-python",
   "name": "python",
   "nbconvert_exporter": "python",
   "pygments_lexer": "ipython3",
   "version": "3.6.6"
  }
 },
 "nbformat": 4,
 "nbformat_minor": 2
}
